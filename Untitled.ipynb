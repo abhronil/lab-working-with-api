{
 "cells": [
  {
   "cell_type": "code",
   "execution_count": 5,
   "id": "15856c02",
   "metadata": {},
   "outputs": [],
   "source": [
    "import requests\n",
    "import pandas as pd"
   ]
  },
  {
   "cell_type": "code",
   "execution_count": 57,
   "id": "e62a67c7",
   "metadata": {},
   "outputs": [],
   "source": [
    "def airport_data():\n",
    "\n",
    "    location = input('Insert location:')\n",
    "    print()\n",
    "\n",
    "    url = \"https://aerodatabox.p.rapidapi.com/airports/search/term\"\n",
    "    querystring = {\"q\":location.lower(), \"limit\":\"1\"}\n",
    "\n",
    "    response = requests.get(url, headers=headers, params=querystring)\n",
    "\n",
    "    return response.json()\n",
    "\n",
    "def airport_code():\n",
    "    response = airport_data()\n",
    "    code = response[\"items\"][0][\"iata\"]\n",
    "    return code\n",
    "\n",
    "def flight_distance_time(from_, to_):\n",
    "    url = f\"https://aerodatabox.p.rapidapi.com/airports/icao/{from_}/distance-time/{to_}\"\n",
    "    response = requests.get(url, headers=headers)\n",
    "    return pd.json_normalize(response.json()).T"
   ]
  },
  {
   "cell_type": "code",
   "execution_count": 59,
   "id": "eafd16b6",
   "metadata": {},
   "outputs": [
    {
     "name": "stdout",
     "output_type": "stream",
     "text": [
      "[DEPARTURE]\n",
      "Insert location:amsterdam\n",
      "\n",
      "[DESTINATION]\n",
      "Insert location:munich\n",
      "\n"
     ]
    },
    {
     "data": {
      "text/html": [
       "<div>\n",
       "<style scoped>\n",
       "    .dataframe tbody tr th:only-of-type {\n",
       "        vertical-align: middle;\n",
       "    }\n",
       "\n",
       "    .dataframe tbody tr th {\n",
       "        vertical-align: top;\n",
       "    }\n",
       "\n",
       "    .dataframe thead th {\n",
       "        text-align: right;\n",
       "    }\n",
       "</style>\n",
       "<table border=\"1\" class=\"dataframe\">\n",
       "  <thead>\n",
       "    <tr style=\"text-align: right;\">\n",
       "      <th></th>\n",
       "      <th>0</th>\n",
       "    </tr>\n",
       "  </thead>\n",
       "  <tbody>\n",
       "    <tr>\n",
       "      <th>message</th>\n",
       "      <td>Airport for code AMS was not found</td>\n",
       "    </tr>\n",
       "  </tbody>\n",
       "</table>\n",
       "</div>"
      ],
      "text/plain": [
       "                                          0\n",
       "message  Airport for code AMS was not found"
      ]
     },
     "execution_count": 59,
     "metadata": {},
     "output_type": "execute_result"
    }
   ],
   "source": [
    "print('[DEPARTURE]')\n",
    "from_ = airport_code()\n",
    "print('[DESTINATION]')\n",
    "to_ = airport_code()\n",
    "\n",
    "flight_df = flight_distance_time(from_, to_)\n",
    "flight_df"
   ]
  },
  {
   "cell_type": "code",
   "execution_count": null,
   "id": "f97367b9",
   "metadata": {},
   "outputs": [],
   "source": []
  },
  {
   "cell_type": "code",
   "execution_count": null,
   "id": "23cf880f",
   "metadata": {},
   "outputs": [],
   "source": [
    "response=airport_data()"
   ]
  },
  {
   "cell_type": "code",
   "execution_count": 41,
   "id": "0a6ffaad",
   "metadata": {},
   "outputs": [
    {
     "data": {
      "text/plain": [
       "{'searchBy': 'amsterdam',\n",
       " 'count': 1,\n",
       " 'items': [{'icao': 'EHAM',\n",
       "   'iata': 'AMS',\n",
       "   'name': 'Amsterdam Schiphol',\n",
       "   'shortName': 'Schiphol',\n",
       "   'municipalityName': 'Amsterdam',\n",
       "   'location': {'lat': 52.3086, 'lon': 4.763889},\n",
       "   'countryCode': 'NL'}]}"
      ]
     },
     "execution_count": 41,
     "metadata": {},
     "output_type": "execute_result"
    }
   ],
   "source": [
    "respsonse.json()[\"items\"][1]"
   ]
  },
  {
   "cell_type": "code",
   "execution_count": null,
   "id": "eed17f2d",
   "metadata": {},
   "outputs": [],
   "source": []
  }
 ],
 "metadata": {
  "kernelspec": {
   "display_name": "Python 3 (ipykernel)",
   "language": "python",
   "name": "python3"
  },
  "language_info": {
   "codemirror_mode": {
    "name": "ipython",
    "version": 3
   },
   "file_extension": ".py",
   "mimetype": "text/x-python",
   "name": "python",
   "nbconvert_exporter": "python",
   "pygments_lexer": "ipython3",
   "version": "3.9.13"
  }
 },
 "nbformat": 4,
 "nbformat_minor": 5
}
